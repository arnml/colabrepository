{
  "nbformat": 4,
  "nbformat_minor": 0,
  "metadata": {
    "colab": {
      "provenance": [],
      "authorship_tag": "ABX9TyOPb0M68zj99FQQC8DLiN6X",
      "include_colab_link": true
    },
    "kernelspec": {
      "name": "python3",
      "display_name": "Python 3"
    },
    "language_info": {
      "name": "python"
    }
  },
  "cells": [
    {
      "cell_type": "markdown",
      "metadata": {
        "id": "view-in-github",
        "colab_type": "text"
      },
      "source": [
        "<a href=\"https://colab.research.google.com/github/arnml/colabrepository/blob/main/MITx_6_419x_modulo_1.ipynb\" target=\"_parent\"><img src=\"https://colab.research.google.com/assets/colab-badge.svg\" alt=\"Open In Colab\"/></a>"
      ]
    },
    {
      "cell_type": "markdown",
      "source": [
        "# Observational Studies"
      ],
      "metadata": {
        "id": "TdHiBYWg4ed4"
      }
    },
    {
      "cell_type": "code",
      "execution_count": 4,
      "metadata": {
        "colab": {
          "base_uri": "https://localhost:8080/"
        },
        "id": "4QMDxVuO4M2-",
        "outputId": "e0422965-ac2d-461a-ea9d-df687167eeb4"
      },
      "outputs": [
        {
          "output_type": "stream",
          "name": "stdout",
          "text": [
            "0.05024468664277072\n"
          ]
        }
      ],
      "source": [
        "%reset -f\n",
        "import scipy.special as sp\n",
        "n = 31000\n",
        "p = 0.00203\n",
        "k = 63\n",
        "P = sp.comb(n, k) * (p ** k) * ((1 - p) ** (n - k))\n",
        "print(P)"
      ]
    },
    {
      "cell_type": "code",
      "source": [],
      "metadata": {
        "id": "3TlwotZb5NEe"
      },
      "execution_count": null,
      "outputs": []
    }
  ]
}