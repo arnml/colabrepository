{
  "nbformat": 4,
  "nbformat_minor": 0,
  "metadata": {
    "colab": {
      "provenance": [],
      "authorship_tag": "ABX9TyPuiv/LLORDurhfyLIyHrjk",
      "include_colab_link": true
    },
    "kernelspec": {
      "name": "python3",
      "display_name": "Python 3"
    },
    "language_info": {
      "name": "python"
    }
  },
  "cells": [
    {
      "cell_type": "markdown",
      "metadata": {
        "id": "view-in-github",
        "colab_type": "text"
      },
      "source": [
        "<a href=\"https://colab.research.google.com/github/arnml/colabrepository/blob/main/MITx_6_419x_modulo_1.ipynb\" target=\"_parent\"><img src=\"https://colab.research.google.com/assets/colab-badge.svg\" alt=\"Open In Colab\"/></a>"
      ]
    },
    {
      "cell_type": "markdown",
      "source": [
        "# Observational Studies"
      ],
      "metadata": {
        "id": "TdHiBYWg4ed4"
      }
    },
    {
      "cell_type": "code",
      "execution_count": null,
      "metadata": {
        "colab": {
          "base_uri": "https://localhost:8080/"
        },
        "id": "4QMDxVuO4M2-",
        "outputId": "e0422965-ac2d-461a-ea9d-df687167eeb4"
      },
      "outputs": [
        {
          "output_type": "stream",
          "name": "stdout",
          "text": [
            "0.05024468664277072\n"
          ]
        }
      ],
      "source": [
        "%reset -f\n",
        "import scipy.special as sp\n",
        "n = 31000\n",
        "p = 0.00203\n",
        "k = 63\n",
        "P = sp.comb(n, k) * (p ** k) * ((1 - p) ** (n - k))\n",
        "print(P)"
      ]
    },
    {
      "cell_type": "code",
      "source": [
        "# p-value of test statistic for Binomial(n,p)\n",
        "%reset -f\n",
        "from scipy.stats import binom\n",
        "\n",
        "# Parameters\n",
        "n = 31000\n",
        "p = 0.00203\n",
        "T = 39\n",
        "\n",
        "# Calculate the cumulative probability P(X <= 39)\n",
        "p_value = binom.cdf(T, n, p)\n",
        "\n",
        "print(f\"The p-value for x <= {T} is {p_value}\")\n"
      ],
      "metadata": {
        "colab": {
          "base_uri": "https://localhost:8080/"
        },
        "id": "1chBvcq2WKKf",
        "outputId": "d93abdea-63ac-4df1-e9ec-138b0e53b06c"
      },
      "execution_count": 6,
      "outputs": [
        {
          "output_type": "stream",
          "name": "stdout",
          "text": [
            "The p-value for x <= 39 is 0.0008074555188959496\n"
          ]
        }
      ]
    },
    {
      "cell_type": "code",
      "source": [
        "# prompt: cdf for x with distribution hypergeometric(N,K,n)\n",
        "%reset -f\n",
        "import scipy.stats as stats\n",
        "\n",
        "# Parameters for the hypergeometric distribution\n",
        "N = 62000  # Population size\n",
        "K = 31000   # Number of successes in the population\n",
        "n = 102   # Number of draws\n",
        "\n",
        "# Calculate the CDF for a specific value of x\n",
        "x = 39  # Value for which to calculate the CDF\n",
        "cdf_value = stats.hypergeom.cdf(x, N, K, n)\n",
        "\n",
        "print(f\"The CDF for x = {x} is: {cdf_value}\")\n",
        "\n",
        "# Example of calculating CDF for multiple x values\n",
        "x_values = range(102)\n",
        "cdf_values = stats.hypergeom.cdf(x_values, N, K, n)"
      ],
      "metadata": {
        "colab": {
          "base_uri": "https://localhost:8080/"
        },
        "id": "oZkzUwylWLmu",
        "outputId": "95571c97-fb78-4dbc-caa0-9ece762af112"
      },
      "execution_count": 9,
      "outputs": [
        {
          "output_type": "stream",
          "name": "stdout",
          "text": [
            "The CDF for x = 39 is: 0.011094091841433758\n"
          ]
        }
      ]
    },
    {
      "cell_type": "code",
      "source": [
        "# prompt: cdf for x with distribution hypergeometric(N,K,n) with fisher_exact\n",
        "%reset -f\n",
        "import scipy.stats as stats\n",
        "\n",
        "# Parameters for the hypergeometric distribution\n",
        "N = 62000  # Population size\n",
        "K = 31000   # Number of successes in the population\n",
        "n = 102   # Number of draws\n",
        "\n",
        "# Calculate the CDF for a specific value of x using stats.hypergeom.cdf\n",
        "x = 39  # Value for which to calculate the CDF\n",
        "cdf_value = stats.hypergeom.cdf(x, N, K, n)\n",
        "\n",
        "print(f\"The CDF for x = {x} is: {cdf_value}\")\n",
        "\n",
        "# Example of calculating CDF for multiple x values\n",
        "x_values = range(n + 1)  # Iterate up to n inclusive\n",
        "cdf_values = stats.hypergeom.cdf(x_values, N, K, n)\n",
        "\n",
        "# Fisher exact test example\n",
        "# Assuming you have two tables of observed and expected counts\n",
        "# Replace with your actual data\n",
        "\n",
        "# Table 1\n",
        "observed_table1 = [[39, 63], [30961, 30937]]\n",
        "\n",
        "oddsratio, pvalue = stats.fisher_exact(observed_table1, alternative='less')\n",
        "\n",
        "print(\"\\nFisher Exact Test Results (Table 1):\")\n",
        "print(f\"Odds Ratio: {oddsratio}\")\n",
        "print(f\"P-value: {pvalue}\")"
      ],
      "metadata": {
        "colab": {
          "base_uri": "https://localhost:8080/"
        },
        "id": "yKM6vNMbJIxR",
        "outputId": "7e511cd5-5d0e-4cda-9797-7c94a28b2350"
      },
      "execution_count": 20,
      "outputs": [
        {
          "output_type": "stream",
          "name": "stdout",
          "text": [
            "The CDF for x = 39 is: 0.011094091841433758\n",
            "\n",
            "Fisher Exact Test Results (Table 1):\n",
            "Odds Ratio: 0.6185677526719483\n",
            "P-value: 0.011094091841433758\n"
          ]
        }
      ]
    },
    {
      "cell_type": "code",
      "source": [
        "%reset -f\n",
        "from scipy.stats import norm\n",
        "\n",
        "# Value for which we want the CDF\n",
        "x = -3.0268\n",
        "\n",
        "# Calculate the CDF\n",
        "cdf_value = norm.cdf(x)\n",
        "\n",
        "print(f\"The CDF of the normal distribution at x = {x} is {cdf_value}\")\n"
      ],
      "metadata": {
        "colab": {
          "base_uri": "https://localhost:8080/"
        },
        "id": "fpcsngXnxlz9",
        "outputId": "a35549fb-fd9a-486f-e641-2b2e1ee83798"
      },
      "execution_count": 14,
      "outputs": [
        {
          "output_type": "stream",
          "name": "stdout",
          "text": [
            "The CDF of the normal distribution at x = -3.0268 is 0.0012357871459340907\n"
          ]
        }
      ]
    },
    {
      "cell_type": "code",
      "source": [
        "#t-test for pill\n",
        "%reset -f\n",
        "import numpy as np\n",
        "from scipy.stats import t\n",
        "\n",
        "# Data\n",
        "X = np.array([0.9, -0.9, 4.3, 2.9, 1.2, 3.0, 2.7, 0.6, 3.6, -0.5])\n",
        "\n",
        "# Calculate mean and unbiased standard deviation\n",
        "X_mean = np.mean(X)\n",
        "unbiased_std = np.std(X, ddof=1)\n",
        "\n",
        "# Sample size\n",
        "n = len(X)\n",
        "\n",
        "# Calculate t-statistic\n",
        "t_statistic = X_mean / (unbiased_std / np.sqrt(n))\n",
        "\n",
        "# Survival function (1 - CDF) for the t-distribution\n",
        "survival_function = t.sf(t_statistic, df=n-1)\n",
        "\n",
        "# Output results\n",
        "print(\"T-Statistic:\", t_statistic)\n",
        "print(\"Survival Function (p-value, one-tailed):\", survival_function)\n"
      ],
      "metadata": {
        "colab": {
          "base_uri": "https://localhost:8080/"
        },
        "id": "MxSDR6R0xuGV",
        "outputId": "a34a4d54-2e70-4785-f978-b25cbbb0e5b2"
      },
      "execution_count": 15,
      "outputs": [
        {
          "output_type": "stream",
          "name": "stdout",
          "text": [
            "T-Statistic: 3.1835383022188735\n",
            "Survival Function (p-value, one-tailed): 0.005560692749284678\n"
          ]
        }
      ]
    },
    {
      "cell_type": "code",
      "source": [
        "%reset -f\n",
        "import math\n",
        "from scipy.stats import binom\n",
        "N = 31000\n",
        "yT = 39\n",
        "yC = 63\n",
        "pi_null_T = yT / N\n",
        "pi_null_C = yC / N\n",
        "pi_all = (yT + yC) / N /2\n",
        "Sigma_den = binom.pmf(yT,N,pi_null_T)*binom.pmf(yC,N,pi_null_C)\n",
        "Sigma_num = binom.pmf(yT,N,pi_all)*binom.pmf(yC,N,pi_all)\n",
        "Sigma = -2 * math.log(Sigma_num/Sigma_den)\n",
        "print(Sigma)"
      ],
      "metadata": {
        "colab": {
          "base_uri": "https://localhost:8080/"
        },
        "id": "xB_FE3EA9jhn",
        "outputId": "8caee8c7-af3e-451e-da75-a3126b18c4fa"
      },
      "execution_count": 23,
      "outputs": [
        {
          "output_type": "stream",
          "name": "stdout",
          "text": [
            "5.709660479762173\n"
          ]
        }
      ]
    },
    {
      "cell_type": "code",
      "source": [
        "# prompt: calculate the survival function of Sigma given a distribution chi-square of orden 1\n",
        "\n",
        "import scipy.stats as stats\n",
        "\n",
        "# Assuming Sigma follows a chi-square distribution with 1 degree of freedom\n",
        "df = 1  # Degrees of freedom\n",
        "\n",
        "# Calculate the survival function (1 - CDF) for Sigma\n",
        "survival_function = 1 - stats.chi2.cdf(Sigma, df)\n",
        "\n",
        "print(f\"The survival function of Sigma is: {survival_function}\")"
      ],
      "metadata": {
        "colab": {
          "base_uri": "https://localhost:8080/"
        },
        "id": "tHBEE7v6de2h",
        "outputId": "d00ef866-5778-4a27-fe1f-c18e3de28c7b"
      },
      "execution_count": 24,
      "outputs": [
        {
          "output_type": "stream",
          "name": "stdout",
          "text": [
            "The survival function of Sigma is: 0.016871802195942753\n"
          ]
        }
      ]
    },
    {
      "cell_type": "code",
      "source": [],
      "metadata": {
        "id": "slezPurHfZY9"
      },
      "execution_count": null,
      "outputs": []
    }
  ]
}