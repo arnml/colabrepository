{
  "nbformat": 4,
  "nbformat_minor": 0,
  "metadata": {
    "colab": {
      "provenance": [],
      "authorship_tag": "ABX9TyO6gCxcTyrX8NRDcqP6CTs/",
      "include_colab_link": true
    },
    "kernelspec": {
      "name": "python3",
      "display_name": "Python 3"
    },
    "language_info": {
      "name": "python"
    }
  },
  "cells": [
    {
      "cell_type": "markdown",
      "metadata": {
        "id": "view-in-github",
        "colab_type": "text"
      },
      "source": [
        "<a href=\"https://colab.research.google.com/github/arnml/colabrepository/blob/main/MITx_6_419x_modulo_2.ipynb\" target=\"_parent\"><img src=\"https://colab.research.google.com/assets/colab-badge.svg\" alt=\"Open In Colab\"/></a>"
      ]
    },
    {
      "cell_type": "markdown",
      "source": [
        "# Genomics and High-Dimensional Data"
      ],
      "metadata": {
        "id": "aKGPJe40t7QS"
      }
    },
    {
      "cell_type": "code",
      "source": [
        "%reset -f\n",
        "import numpy as np\n",
        "from sklearn.covariance import empirical_covariance\n",
        "\n",
        "X = np.array([\n",
        "    [8, 4, 7],\n",
        "    [2, 8, 1],\n",
        "    [3, 1, 1],\n",
        "    [9, 7, 4]\n",
        "])\n",
        "empirical_covariance(X)"
      ],
      "metadata": {
        "colab": {
          "base_uri": "https://localhost:8080/"
        },
        "id": "oxXTRFI1uBxB",
        "outputId": "87b14226-ed4c-43d2-a1b0-4bfc8d4932a3"
      },
      "execution_count": null,
      "outputs": [
        {
          "output_type": "execute_result",
          "data": {
            "text/plain": [
              "array([[9.25  , 1.    , 6.375 ],\n",
              "       [1.    , 7.5   , 0.    ],\n",
              "       [6.375 , 0.    , 6.1875]])"
            ]
          },
          "metadata": {},
          "execution_count": 7
        }
      ]
    },
    {
      "cell_type": "markdown",
      "source": [
        "## 7. Measuring the Spread of a Point Cloud"
      ],
      "metadata": {
        "id": "s9uw8L3B-UNo"
      }
    },
    {
      "cell_type": "code",
      "source": [
        "%reset -f\n",
        "import numpy as np\n",
        "n = 3\n",
        "H = np.eye(n) - 1 / n * np.ones((n, n))"
      ],
      "metadata": {
        "id": "AW7UDuTXxcuh"
      },
      "execution_count": null,
      "outputs": []
    },
    {
      "cell_type": "code",
      "source": [
        "x = np.array([\n",
        "    [2],\n",
        "    [-1],\n",
        "    [-2]\n",
        "])\n",
        "H @ H @ x"
      ],
      "metadata": {
        "id": "TBq453XT1_d5",
        "colab": {
          "base_uri": "https://localhost:8080/"
        },
        "outputId": "770ed2e0-be9b-4652-be7e-46f0f98ba286"
      },
      "execution_count": null,
      "outputs": [
        {
          "output_type": "execute_result",
          "data": {
            "text/plain": [
              "array([[ 2.33333333],\n",
              "       [-0.66666667],\n",
              "       [-1.66666667]])"
            ]
          },
          "metadata": {},
          "execution_count": 36
        }
      ]
    },
    {
      "cell_type": "code",
      "source": [
        "(H @ x).T @ np.ones(n)"
      ],
      "metadata": {
        "colab": {
          "base_uri": "https://localhost:8080/"
        },
        "id": "JUTvUVMxhAHC",
        "outputId": "b3247d1c-2fc2-44fa-cba8-c0d8f66dfb35"
      },
      "execution_count": null,
      "outputs": [
        {
          "output_type": "execute_result",
          "data": {
            "text/plain": [
              "array([-2.22044605e-16])"
            ]
          },
          "metadata": {},
          "execution_count": 37
        }
      ]
    },
    {
      "cell_type": "code",
      "source": [
        "%reset -f\n",
        "import numpy as np\n",
        "u = np.array([\n",
        "    [1],\n",
        "    [2]\n",
        "]) * 1 / np.sqrt(5)"
      ],
      "metadata": {
        "id": "OsFxlxWIibwL"
      },
      "execution_count": null,
      "outputs": []
    },
    {
      "cell_type": "code",
      "source": [
        "x1 = np.array([\n",
        "    [1],\n",
        "    [2]\n",
        "])\n",
        "uX1 = u.T @ x1\n",
        "uX1"
      ],
      "metadata": {
        "colab": {
          "base_uri": "https://localhost:8080/"
        },
        "id": "0p7Azj7xdQyZ",
        "outputId": "1a72ca75-06f8-4406-d6bd-73cf59138365"
      },
      "execution_count": null,
      "outputs": [
        {
          "output_type": "execute_result",
          "data": {
            "text/plain": [
              "array([[2.23606798]])"
            ]
          },
          "metadata": {},
          "execution_count": 63
        }
      ]
    },
    {
      "cell_type": "code",
      "source": [
        "x2 = np.array([\n",
        "    [3],\n",
        "    [4]\n",
        "])\n",
        "uX2 = u.T @ x2\n",
        "uX2"
      ],
      "metadata": {
        "colab": {
          "base_uri": "https://localhost:8080/"
        },
        "id": "ryhya6THdYN4",
        "outputId": "bfa3a1a6-a4cc-44a9-8c58-ced0f2a425ed"
      },
      "execution_count": null,
      "outputs": [
        {
          "output_type": "execute_result",
          "data": {
            "text/plain": [
              "array([[4.91934955]])"
            ]
          },
          "metadata": {},
          "execution_count": 64
        }
      ]
    },
    {
      "cell_type": "code",
      "source": [
        "x3 = np.array([\n",
        "    [-1],\n",
        "    [0]\n",
        "])\n",
        "uX3 = u.T @ x3\n",
        "uX3"
      ],
      "metadata": {
        "colab": {
          "base_uri": "https://localhost:8080/"
        },
        "id": "WctFzqGDeCyh",
        "outputId": "2a28390e-7460-4c02-9799-3b76cfd5fca1"
      },
      "execution_count": null,
      "outputs": [
        {
          "output_type": "execute_result",
          "data": {
            "text/plain": [
              "array([[-0.4472136]])"
            ]
          },
          "metadata": {},
          "execution_count": 65
        }
      ]
    },
    {
      "cell_type": "code",
      "source": [
        "uX = np.array([uX1, uX2, uX3])\n",
        "empirical_variance = np.var(uX)\n",
        "\n",
        "empirical_variance"
      ],
      "metadata": {
        "colab": {
          "base_uri": "https://localhost:8080/"
        },
        "id": "I2NW8SdaeK5o",
        "outputId": "38357af8-7f6d-49a6-87c2-e547e84e86d9"
      },
      "execution_count": null,
      "outputs": [
        {
          "output_type": "execute_result",
          "data": {
            "text/plain": [
              "4.8"
            ]
          },
          "metadata": {},
          "execution_count": 68
        }
      ]
    },
    {
      "cell_type": "code",
      "source": [
        "X = np.vstack((x1.T, x2.T, x3.T))\n",
        "X"
      ],
      "metadata": {
        "colab": {
          "base_uri": "https://localhost:8080/"
        },
        "id": "X9zCIq1d-wYT",
        "outputId": "7295f6ee-9650-48b6-a620-a3345cc49264"
      },
      "execution_count": null,
      "outputs": [
        {
          "output_type": "execute_result",
          "data": {
            "text/plain": [
              "array([[ 1,  2],\n",
              "       [ 3,  4],\n",
              "       [-1,  0]])"
            ]
          },
          "metadata": {},
          "execution_count": 56
        }
      ]
    },
    {
      "cell_type": "code",
      "source": [
        "n = 3\n",
        "H = np.eye(n) - 1 / n * np.ones((n, n))"
      ],
      "metadata": {
        "id": "ZG_YX_vbeYNA"
      },
      "execution_count": null,
      "outputs": []
    },
    {
      "cell_type": "code",
      "source": [
        "S = X.T @ H @ X / n"
      ],
      "metadata": {
        "id": "Uts7ncBhejKZ"
      },
      "execution_count": null,
      "outputs": []
    },
    {
      "cell_type": "code",
      "source": [
        "u.T @ S @ u"
      ],
      "metadata": {
        "colab": {
          "base_uri": "https://localhost:8080/"
        },
        "id": "sP_p7QTxenGh",
        "outputId": "83b76a21-6d5a-4f50-c73d-319041d00fbe"
      },
      "execution_count": null,
      "outputs": [
        {
          "output_type": "execute_result",
          "data": {
            "text/plain": [
              "array([[4.8]])"
            ]
          },
          "metadata": {},
          "execution_count": 62
        }
      ]
    },
    {
      "cell_type": "markdown",
      "source": [
        "## 11. (Optional) Conceptual Examples in 2 dimensions"
      ],
      "metadata": {
        "id": "UhULoZlZJJZ1"
      }
    },
    {
      "cell_type": "code",
      "source": [
        "%reset -f\n",
        "import numpy as np\n",
        "x1 = np.array([[0], [2]])\n",
        "x2 = np.array([[1], [-1]])\n",
        "x3 = np.array([[-1], [-1]])\n",
        "X = np.vstack((x1.T, x2.T, x3.T))"
      ],
      "metadata": {
        "id": "K817JO2AJHpj"
      },
      "execution_count": 10,
      "outputs": []
    },
    {
      "cell_type": "code",
      "source": [
        "import matplotlib.pyplot as plt\n",
        "x_coordinate = X[:, 0]\n",
        "y_coordinate = X[:, 1]\n",
        "\n",
        "# Create the plot\n",
        "plt.figure(figsize=(6, 6))  # Adjust figure size as needed\n",
        "plt.scatter(x_coordinate, y_coordinate, color='blue')\n",
        "plt.xlabel('X-coordinate')\n",
        "plt.ylabel('Y-coordinate')\n",
        "plt.title(f'Data')\n",
        "plt.xlim(-2.5, 2.5)\n",
        "plt.ylim(-2.5, 2.5)\n",
        "plt.grid(True)\n",
        "plt.show()\n"
      ],
      "metadata": {
        "colab": {
          "base_uri": "https://localhost:8080/",
          "height": 564
        },
        "id": "w3fCIXD8JlXS",
        "outputId": "91c9a41f-6296-4853-e078-749160ebc6aa"
      },
      "execution_count": 11,
      "outputs": [
        {
          "output_type": "display_data",
          "data": {
            "text/plain": [
              "<Figure size 600x600 with 1 Axes>"
            ],
            "image/png": "[encoded data removed]"
          },
          "metadata": {}
        }
      ]
    },
    {
      "cell_type": "code",
      "source": [
        "n = X.shape[0]\n",
        "S = 1 / n * X.T @ X\n",
        "S"
      ],
      "metadata": {
        "colab": {
          "base_uri": "https://localhost:8080/"
        },
        "id": "6DZ6Z-3QJf2P",
        "outputId": "c0f31b6d-cd63-4d9d-81cc-347693b045f0"
      },
      "execution_count": 15,
      "outputs": [
        {
          "output_type": "execute_result",
          "data": {
            "text/plain": [
              "array([[0.66666667, 0.        ],\n",
              "       [0.        , 2.        ]])"
            ]
          },
          "metadata": {},
          "execution_count": 15
        }
      ]
    },
    {
      "cell_type": "code",
      "source": [
        "eigenvalues, eigenvectors = np.linalg.eig(S)\n",
        "for i in range(len(eigenvalues)):\n",
        "    print(f\"Eigenvalue: {eigenvalues[i]}, Eigenvector: {eigenvectors[:,i]}\")"
      ],
      "metadata": {
        "colab": {
          "base_uri": "https://localhost:8080/"
        },
        "id": "Lghd-QgrK_ju",
        "outputId": "95bf78d6-4391-4795-dd02-1e1560b840d1"
      },
      "execution_count": 22,
      "outputs": [
        {
          "output_type": "stream",
          "name": "stdout",
          "text": [
            "Eigenvalue: 0.6666666666666666, Eigenvector: [1. 0.]\n",
            "Eigenvalue: 1.9999999999999998, Eigenvector: [0. 1.]\n"
          ]
        }
      ]
    },
    {
      "cell_type": "code",
      "source": [
        "eigenvectors"
      ],
      "metadata": {
        "colab": {
          "base_uri": "https://localhost:8080/"
        },
        "id": "dOPUcq5zLHgF",
        "outputId": "75297348-3a9f-4398-e187-a775e3be0b4d"
      },
      "execution_count": 23,
      "outputs": [
        {
          "output_type": "execute_result",
          "data": {
            "text/plain": [
              "array([[1., 0.],\n",
              "       [0., 1.]])"
            ]
          },
          "metadata": {},
          "execution_count": 23
        }
      ]
    },
    {
      "cell_type": "code",
      "source": [
        "import matplotlib.pyplot as plt\n",
        "x_coordinate = X[:, 0]\n",
        "y_coordinate = X[:, 1]\n",
        "\n",
        "# Create the plot\n",
        "plt.figure(figsize=(6, 6))  # Adjust figure size as needed\n",
        "plt.scatter(x_coordinate, y_coordinate, color='blue')\n",
        "plt.xlabel('X-coordinate')\n",
        "plt.ylabel('Y-coordinate')\n",
        "plt.title(f'Data')\n",
        "plt.xlim(-2.5, 2.5)\n",
        "plt.ylim(-2.5, 2.5)\n",
        "\n",
        "# row autovector\n",
        "for i in range(len(eigenvectors)):\n",
        "  plt.arrow(0, 0, eigenvectors[i, 0], eigenvectors[i, 1], head_width=0.1, head_length=0.1, fc='r', ec='r')\n",
        "  plt.text(eigenvectors[i, 0] + 0.1, eigenvectors[i, 1] + 0.1, f'v{i+1} for $\\lambda$:{eigenvalues[i]:.3f}')\n",
        "\n",
        "plt.grid(True)\n",
        "plt.show()\n"
      ],
      "metadata": {
        "colab": {
          "base_uri": "https://localhost:8080/",
          "height": 564
        },
        "id": "EOiSGTTHL8cG",
        "outputId": "c3775954-3154-4643-99e9-11cae941d279"
      },
      "execution_count": 33,
      "outputs": [
        {
          "output_type": "display_data",
          "data": {
            "text/plain": [
              "<Figure size 600x600 with 1 Axes>"
            ],
            "image/png": "[encoded data removed]"
          },
          "metadata": {}
        }
      ]
    },
    {
      "cell_type": "code",
      "source": [
        "test = [[1,2],[3,4]]\n",
        "for t in test:\n",
        "  print(t)"
      ],
      "metadata": {
        "colab": {
          "base_uri": "https://localhost:8080/"
        },
        "id": "YFnodBjwMNbe",
        "outputId": "1379cf86-777d-4859-aa88-f39ab08f23ea"
      },
      "execution_count": 24,
      "outputs": [
        {
          "output_type": "stream",
          "name": "stdout",
          "text": [
            "[1, 2]\n",
            "[3, 4]\n"
          ]
        }
      ]
    },
    {
      "cell_type": "code",
      "source": [],
      "metadata": {
        "id": "OcjLM-UYMSet"
      },
      "execution_count": null,
      "outputs": []
    }
  ]
}